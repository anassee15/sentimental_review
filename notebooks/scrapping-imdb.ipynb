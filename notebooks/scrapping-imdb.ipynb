{
 "cells": [
  {
   "cell_type": "markdown",
   "metadata": {},
   "source": [
    "# Scrapping rating from IMDB"
   ]
  },
  {
   "cell_type": "markdown",
   "metadata": {},
   "source": [
    "## imports "
   ]
  },
  {
   "cell_type": "code",
   "execution_count": 21,
   "metadata": {},
   "outputs": [],
   "source": [
    "from bs4 import BeautifulSoup\n",
    "import requests"
   ]
  },
  {
   "cell_type": "markdown",
   "metadata": {},
   "source": [
    "## Search film or show "
   ]
  },
  {
   "cell_type": "code",
   "execution_count": 22,
   "metadata": {},
   "outputs": [],
   "source": [
    "value = 'The Godfather'\n",
    "r = requests.get('https://www.imdb.com/find?q='+value)\n",
    "\n",
    "soup = BeautifulSoup(r.content, 'html5lib')"
   ]
  },
  {
   "cell_type": "markdown",
   "metadata": {},
   "source": [
    "### Get the url of the first result on titles"
   ]
  },
  {
   "cell_type": "code",
   "execution_count": 23,
   "metadata": {},
   "outputs": [
    {
     "name": "stdout",
     "output_type": "stream",
     "text": [
      "https://www.imdb.com/title/tt0068646/ratings/\n",
      "<td class=\"result_text\"> <a href=\"/title/tt0068646/\">The Godfather</a> (1972) </td>\n"
     ]
    }
   ],
   "source": [
    "a_tt = soup.find('a', attrs={'name':'tt'})\n",
    "find_section = a_tt.parent.parent\n",
    "first_result = find_section.find('td', attrs={'class':'result_text'})\n",
    "a  = first_result.find('a')\n",
    "url = 'https://www.imdb.com' + a['href'] + 'ratings/'\n",
    "print(url)"
   ]
  },
  {
   "cell_type": "markdown",
   "metadata": {},
   "source": [
    "## Get rate from url"
   ]
  },
  {
   "cell_type": "code",
   "execution_count": 19,
   "metadata": {},
   "outputs": [
    {
     "name": "stdout",
     "output_type": "stream",
     "text": [
      "9.2\n"
     ]
    }
   ],
   "source": [
    "r = requests.get(url)\n",
    "soup = BeautifulSoup(r.content, 'html5lib')\n",
    "\n",
    "rate = soup.find('span', attrs={'class':'ipl-rating-star__rating'})\n",
    "\n",
    "print(rate.text)"
   ]
  }
 ],
 "metadata": {
  "kernelspec": {
   "display_name": "Python 3.10.4 ('sentimental-review-DA5qQrKY')",
   "language": "python",
   "name": "python3"
  },
  "language_info": {
   "codemirror_mode": {
    "name": "ipython",
    "version": 3
   },
   "file_extension": ".py",
   "mimetype": "text/x-python",
   "name": "python",
   "nbconvert_exporter": "python",
   "pygments_lexer": "ipython3",
   "version": "3.10.4"
  },
  "orig_nbformat": 4,
  "vscode": {
   "interpreter": {
    "hash": "882f5fc43d2c824c5d80c3a2017527cf56e694ff5f6525554d8e64036c30fce7"
   }
  }
 },
 "nbformat": 4,
 "nbformat_minor": 2
}
